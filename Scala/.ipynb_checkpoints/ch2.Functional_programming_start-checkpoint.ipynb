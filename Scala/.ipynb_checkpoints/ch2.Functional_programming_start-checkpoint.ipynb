{
 "cells": [
  {
   "cell_type": "markdown",
   "metadata": {},
   "source": [
    "#2. 스칼라로 함수형 프로그래밍 시작하기"
   ]
  },
  {
   "cell_type": "markdown",
   "metadata": {},
   "source": [
    "\n",
    "\n"
   ]
  },
  {
   "cell_type": "markdown",
   "metadata": {},
   "source": [
    "### - 스칼라 언어의 소개: 예제 하나"
   ]
  },
  {
   "cell_type": "markdown",
   "metadata": {},
   "source": [
    "###- 프로그램의 실행"
   ]
  },
  {
   "cell_type": "markdown",
   "metadata": {},
   "source": [
    "###- 모듈, 객체, 이름공간"
   ]
  },
  {
   "cell_type": "markdown",
   "metadata": {},
   "source": [
    "###- 고차 함수: 함수를 함수에 전달"
   ]
  },
  {
   "cell_type": "markdown",
   "metadata": {},
   "source": [
    "###- 다형적 함수: 형식에 대한 추상화"
   ]
  },
  {
   "cell_type": "markdown",
   "metadata": {},
   "source": [
    "###- 형식에서 도출된 구현"
   ]
  },
  {
   "cell_type": "markdown",
   "metadata": {},
   "source": [
    "### - 요약"
   ]
  },
  {
   "cell_type": "markdown",
   "metadata": {},
   "source": [
    "\n",
    "\n"
   ]
  },
  {
   "cell_type": "markdown",
   "metadata": {},
   "source": [
    "\n",
    "\n"
   ]
  },
  {
   "cell_type": "markdown",
   "metadata": {},
   "source": [
    "\n",
    "\n"
   ]
  },
  {
   "cell_type": "markdown",
   "metadata": {},
   "source": [
    "##2.1 스칼라 언어의 소개: 예제 하나"
   ]
  },
  {
   "cell_type": "code",
   "execution_count": 63,
   "metadata": {
    "collapsed": false
   },
   "outputs": [
    {
     "data": {
      "text/plain": [
       "defined \u001b[32mobject \u001b[36mMyModule\u001b[0m"
      ]
     },
     "metadata": {},
     "output_type": "display_data"
    }
   ],
   "source": [
    "//  이거슨 주석 !!\n",
    "/*  요것도 주석 !! */\n",
    "/*  여기도 주석 !! */\n",
    "object MyModule{  // 단일 객체의 선언, 클래스와 클래스의 유일한 인스턴스를 동시에 선언한다... object는 java의 static이라고 생각하면 된다.\n",
    "  def abs(n: Int): Int =  // abs는 정수 하나를 받고 정수를 돌려 주는 함수. ':' 는 결과 형식\n",
    "    if(n < 0) -n  // 만일 n이 0보다 작으면 n의 부정(부호가 반대)을 리턴한다.\n",
    "    else n        // n을 리턴\n",
    "    \n",
    "  private def formatAbs(x: Int) /*: String*/ = { // private 메서드로 이 모듈 안의 멤버들만 호출 가능.\n",
    "    //  '=' 를 기준으로 좌변을 signature 우변을 definition          \n",
    "    val msg = \"The absolute value of %d is %d\" // 수치를 위한 자리표 %d 가 두개 있는 문자열.\n",
    "    msg.format(x, abs(x))  // 문자열의 두 %d 를 x와 abs(x) 로 치환하고 해당 문자열을 리턴. 스칼라 자체에서 반환형식을 추론 가능.\n",
    "  }\n",
    "  \n",
    "def main(args: Array[String]) : Unit =  //Unit 는 Java나 C 같은 언어의 void와 같은 목적으로 쓰인다. \n",
    "    println(formatAbs(-42))\n",
    "}\n",
    "\n"
   ]
  },
  {
   "cell_type": "markdown",
   "metadata": {},
   "source": [
    "\n",
    "\n"
   ]
  },
  {
   "cell_type": "markdown",
   "metadata": {},
   "source": [
    "##2.2 프로그램의 실행"
   ]
  },
  {
   "cell_type": "markdown",
   "metadata": {},
   "source": [
    "- java bytecode 로 컴파일\n",
    "  - <font color=\"blue\">scala MyModule.scala</font>\n",
    "\n"
   ]
  },
  {
   "cell_type": "markdown",
   "metadata": {},
   "source": [
    "\n",
    "\n"
   ]
  },
  {
   "cell_type": "markdown",
   "metadata": {},
   "source": [
    "- JVM에서 실행할 수 있는 컴파일된 코드가 생성."
   ]
  },
  {
   "cell_type": "markdown",
   "metadata": {},
   "source": [
    "\n",
    "\n"
   ]
  },
  {
   "cell_type": "markdown",
   "metadata": {},
   "source": [
    "- 스칼라로 직접 실행 가능\n",
    "  - <font color=\"blue\">scala MyModule</font>"
   ]
  },
  {
   "cell_type": "markdown",
   "metadata": {},
   "source": [
    "\n",
    "\n"
   ]
  },
  {
   "cell_type": "markdown",
   "metadata": {},
   "source": [
    "- 직접 스칼라 interpreter로 실행하는 것도 가능\n",
    "  - <font color=\"blue\">scala MyModule.scala</font>"
   ]
  },
  {
   "cell_type": "markdown",
   "metadata": {},
   "source": [
    "\n",
    "\n"
   ]
  },
  {
   "cell_type": "markdown",
   "metadata": {},
   "source": [
    "##2.3 모듈, 객체, 이름공간"
   ]
  },
  {
   "cell_type": "code",
   "execution_count": 46,
   "metadata": {
    "collapsed": false
   },
   "outputs": [
    {
     "data": {
      "text/plain": [
       "defined \u001b[32mobject \u001b[36mMyModule\u001b[0m"
      ]
     },
     "metadata": {},
     "output_type": "display_data"
    }
   ],
   "source": [
    "// MyModule.abs라고 입력 시 MyModule은 abs가 속한 namespace.\n",
    "// 자신의 멤버들에게 이름공간을 제공하는 것이 주된 목적인 객체를 흔히 module이라고 함.\n",
    "// 멤버는 def 같은 메서드일 수도 있고, val이나 또 다른 객체일 수도 있음.\n",
    "// this도 사용 가능.\n",
    "object MyModule{  \n",
    "  def abs(n: Int): Int = \n",
    "    if(n < 0) -n  \n",
    "    else n        \n",
    "    \n",
    "  private def formatAbs(x: Int) = { \n",
    "    val msg = \"The absolute value of %d is %d\" \n",
    "    msg.format(x, abs(x))  \n",
    "  }\n",
    "  \n",
    "  def main(n: Int) : Unit = \n",
    "    println(this.formatAbs(n))\n",
    "}\n",
    "\n"
   ]
  },
  {
   "cell_type": "code",
   "execution_count": 47,
   "metadata": {
    "collapsed": false
   },
   "outputs": [
    {
     "name": "stdout",
     "output_type": "stream",
     "text": [
      "The absolute value of -1 is 1\n"
     ]
    },
    {
     "data": {
      "text/plain": []
     },
     "metadata": {},
     "output_type": "display_data"
    }
   ],
   "source": [
    "MyModule.main(-1)"
   ]
  },
  {
   "cell_type": "code",
   "execution_count": 51,
   "metadata": {
    "collapsed": false
   },
   "outputs": [
    {
     "data": {
      "text/plain": [
       "\u001b[32mimport \u001b[36mMyModule.abs\u001b[0m"
      ]
     },
     "metadata": {},
     "output_type": "display_data"
    }
   ],
   "source": [
    "import MyModule.abs"
   ]
  },
  {
   "cell_type": "code",
   "execution_count": 52,
   "metadata": {
    "collapsed": false
   },
   "outputs": [
    {
     "data": {
      "text/plain": [
       "\u001b[36mres38\u001b[0m: \u001b[32mInt\u001b[0m = \u001b[32m11\u001b[0m"
      ]
     },
     "metadata": {},
     "output_type": "display_data"
    }
   ],
   "source": [
    "abs(-11)"
   ]
  },
  {
   "cell_type": "code",
   "execution_count": 53,
   "metadata": {
    "collapsed": false
   },
   "outputs": [
    {
     "data": {
      "text/plain": [
       "\u001b[32mimport \u001b[36mMyModule._\u001b[0m"
      ]
     },
     "metadata": {},
     "output_type": "display_data"
    }
   ],
   "source": [
    "import MyModule._"
   ]
  },
  {
   "cell_type": "code",
   "execution_count": 54,
   "metadata": {
    "collapsed": false
   },
   "outputs": [
    {
     "name": "stdout",
     "output_type": "stream",
     "text": [
      "The absolute value of -20 is 20\n"
     ]
    },
    {
     "data": {
      "text/plain": []
     },
     "metadata": {},
     "output_type": "display_data"
    }
   ],
   "source": [
    "main(-20)"
   ]
  },
  {
   "cell_type": "code",
   "execution_count": 62,
   "metadata": {
    "collapsed": false,
    "scrolled": true
   },
   "outputs": [
    {
     "data": {
      "text/plain": [
       "\u001b[36mres45\u001b[0m: \u001b[32mInt\u001b[0m = \u001b[32m11\u001b[0m"
      ]
     },
     "metadata": {},
     "output_type": "display_data"
    }
   ],
   "source": [
    "// 이런 식으로 호출 가능....\n",
    "MyModule abs -11"
   ]
  },
  {
   "cell_type": "markdown",
   "metadata": {},
   "source": [
    "\n",
    "\n"
   ]
  },
  {
   "cell_type": "markdown",
   "metadata": {},
   "source": [
    "\n",
    "\n"
   ]
  },
  {
   "cell_type": "markdown",
   "metadata": {},
   "source": [
    "##2.4 고차 함수: 함수를 함수에 전달"
   ]
  },
  {
   "cell_type": "markdown",
   "metadata": {},
   "source": [
    "- 다른 함수를 인수로 받는 함수를 <b><font color=\"red\">고차함수(higer-order function, HOF; 고계함수)<font></b> 라고한다."
   ]
  },
  {
   "cell_type": "markdown",
   "metadata": {},
   "source": [
    "###2.4.1 곁가지: 함수적으로 루프 작성하기"
   ]
  },
  {
   "cell_type": "code",
   "execution_count": 68,
   "metadata": {
    "collapsed": false
   },
   "outputs": [
    {
     "data": {
      "text/plain": [
       "defined \u001b[32mfunction \u001b[36mfactorial\u001b[0m"
      ]
     },
     "metadata": {},
     "output_type": "display_data"
    }
   ],
   "source": [
    "def factorial(n: Int): Int = {\n",
    "  @annotation.tailrec  // 꼬리 호출이 아니면 컴파일 오류를 발생시킴.\n",
    "  def go(n: Int, acc: Int): Int = {\n",
    "    if (n <= 0) acc //for 문으로 생각한다면 조건 ex) for(*, n <= 0, *)\n",
    "    else go(n-1, n*acc)  // for 문으로 생각한다면 -1 은 증감값 ex) for(*, *, i--) \n",
    "    //else 1 + go(n-1, n*acc) 이런건 꼬리 호출이 아님.  \n",
    "  }\n",
    "  \n",
    "  go(n, 1)\n",
    "}"
   ]
  },
  {
   "cell_type": "markdown",
   "metadata": {},
   "source": [
    "-  루프를 함수적으로 작성하는 방법(루프 변수의 변이 없이 작성하는 방법) 은 재귀함수를 이용하는 방법."
   ]
  },
  {
   "cell_type": "markdown",
   "metadata": {},
   "source": [
    "- 이런 루프 함수의 이름은 go, loop 같은 이름을 붙이는 것이 관례"
   ]
  },
  {
   "cell_type": "markdown",
   "metadata": {},
   "source": [
    "- 호출자가 재귀 호출의 결과를 그대로 돌려주는 것 외에는 아무 일도 하지 않을 떼, 그런 호출을 <b><font color=\"red\">꼬리호출</font></b>이라고 한다."
   ]
  },
  {
   "cell_type": "markdown",
   "metadata": {},
   "source": [
    "- 한 함수가 수행하는 모든 재귀 호출이 꼬리 호출이면 스칼라는 해당 재귀를 매 반복마다 호출 스택을 소비하지 않는 반복 루프 형태로 컴파일함"
   ]
  },
  {
   "cell_type": "markdown",
   "metadata": {},
   "source": [
    "- <font color=\"blue\">while 루프를 사용하는 것도 가능하지만 그럴 필요가 있는 경우는 드물음. 그런 코드는 좋은 합성 스타일에 해가 된다는 점에서 좋지 않은 형태로 간주한다.</font>"
   ]
  },
  {
   "cell_type": "markdown",
   "metadata": {},
   "source": [
    "\n",
    "\n"
   ]
  },
  {
   "cell_type": "markdown",
   "metadata": {},
   "source": [
    "###2.4.2 첫 번째 고차 함수 작성."
   ]
  },
  {
   "cell_type": "code",
   "execution_count": null,
   "metadata": {
    "collapsed": true
   },
   "outputs": [],
   "source": [
    "object MyModule{  \n",
    "  def abs(n: Int): Int = \n",
    "    if(n < 0) -n  \n",
    "    else n        \n",
    "  \n",
    "  def factorial(n: Int): Int = {\n",
    "    @annotation.tailrec  \n",
    "    def go(n: Int, acc: Int): Int = {\n",
    "      if (n <= 0) acc \n",
    "      else go(n-1, n*acc)  \n",
    "      \n",
    "    }\n",
    "  \n",
    "    go(n, 1)\n",
    "  }\n",
    "    \n",
    "  private def formatAbs(x: Int) = { \n",
    "    val msg = \"The absolute value of %d is %d\" \n",
    "    msg.format(x, abs(x))  \n",
    "  }\n",
    "  \n",
    "  private def formatFactorial(n: Int) = {\n",
    "    val msg = \"The factorial of %d is %d\" \n",
    "    msg.format(n, factorial(n))  \n",
    "  }  \n",
    "    \n",
    "  def main(n: Int) : Unit = {\n",
    "    println(formatAbs(n))\n",
    "    println(formatFactorial(n))\n",
    "  }\n",
    "}"
   ]
  },
  {
   "cell_type": "markdown",
   "metadata": {},
   "source": [
    "- 두 함수 formatAbs와 formatFactorial은 거의 동일 다음과 같이 함수를 인수로 받는 함수로 전환"
   ]
  },
  {
   "cell_type": "code",
   "execution_count": 69,
   "metadata": {
    "collapsed": false
   },
   "outputs": [
    {
     "data": {
      "text/plain": [
       "defined \u001b[32mfunction \u001b[36mformatResult\u001b[0m"
      ]
     },
     "metadata": {},
     "output_type": "display_data"
    }
   ],
   "source": [
    "def formatResult(name: String, n: Int, f: Int => Int) = {\n",
    "  val msg = \"The %s of %d is %d\"\n",
    "  msg.format(name, n, f(n))  \n",
    "}"
   ]
  },
  {
   "cell_type": "code",
   "execution_count": 76,
   "metadata": {
    "collapsed": false
   },
   "outputs": [
    {
     "data": {
      "text/plain": [
       "defined \u001b[32mobject \u001b[36mMyModule\u001b[0m"
      ]
     },
     "metadata": {},
     "output_type": "display_data"
    }
   ],
   "source": [
    "object MyModule{  \n",
    "  def abs(n: Int): Int = \n",
    "    if(n < 0) -n  \n",
    "    else n        \n",
    "  \n",
    "  def factorial(n: Int): Int = {\n",
    "    @annotation.tailrec  \n",
    "    def go(n: Int, acc: Int): Int = {\n",
    "      if (n <= 0) acc \n",
    "      else go(n-1, n*acc)  \n",
    "      \n",
    "    }\n",
    "  \n",
    "    go(n, 1)\n",
    "  }\n",
    "    \n",
    "  def formatResult(name: String, n: Int, f: Int => Int) = {\n",
    "    val msg = \"The %s of %d is %d\"\n",
    "    msg.format(name, n, f(n))  \n",
    "  }\n",
    "    \n",
    "  def main(n: Int) : Unit = {\n",
    "    println(formatResult(\"absolute value\", n, abs))  \n",
    "    println(formatResult(\"factorial\", n, factorial))\n",
    "  }\n",
    "}"
   ]
  },
  {
   "cell_type": "code",
   "execution_count": 79,
   "metadata": {
    "collapsed": false
   },
   "outputs": [
    {
     "name": "stdout",
     "output_type": "stream",
     "text": [
      "The absolute value of 7 is 7\n",
      "The factorial of 7 is 5040\n"
     ]
    },
    {
     "data": {
      "text/plain": []
     },
     "metadata": {},
     "output_type": "display_data"
    }
   ],
   "source": [
    "MyModule.main(7)"
   ]
  },
  {
   "cell_type": "markdown",
   "metadata": {},
   "source": [
    "\n",
    "\n"
   ]
  },
  {
   "cell_type": "markdown",
   "metadata": {},
   "source": [
    "\n",
    "\n"
   ]
  },
  {
   "cell_type": "markdown",
   "metadata": {},
   "source": [
    "##2.5 다형적 함수: 형식에 대한 추상"
   ]
  },
  {
   "cell_type": "markdown",
   "metadata": {},
   "source": [
    "- 지금까지 정의한 함수들은 모두 <font color=\"red\">단형적 함수(monomorphic function)</font> 이였다. 즉 한 형식의 자료형에만 작용하는 함수."
   ]
  },
  {
   "cell_type": "markdown",
   "metadata": {},
   "source": [
    "- 임의의 형식에 대해 작동하는 코드를 작성해야 하는 경우도 많이 생긴다. 이런 경우에 사용되는 함수를 <font color=\"red\">다형적 함수(polymorphic function)</font>라고 한다."
   ]
  },
  {
   "cell_type": "markdown",
   "metadata": {},
   "source": [
    "###2.5.1 다형적 함수의 예"
   ]
  },
  {
   "cell_type": "markdown",
   "metadata": {},
   "source": [
    "- 배열에서 문자열을 찾는 단형적 함수"
   ]
  },
  {
   "cell_type": "code",
   "execution_count": 81,
   "metadata": {
    "collapsed": false
   },
   "outputs": [
    {
     "data": {
      "text/plain": [
       "defined \u001b[32mfunction \u001b[36mfindFirst\u001b[0m"
      ]
     },
     "metadata": {},
     "output_type": "display_data"
    }
   ],
   "source": [
    "def findFirst(ss: Array[String], key: String): Int = {\n",
    "  @annotation.tailrec\n",
    "  def loop(n: Int): Int =\n",
    "    if(n >= ss.length) -1 // 만일 n이 배열의 끝을 지나쳤다면, 배열에 키가 존재하지 않음을 뜻하는 값인 -1을 돌려준다.\n",
    "    else if(ss(n) == key) n // ss(n) 은 배열 ss의 n번째 요소를 추출한다. n번째 요소가 키와 상등이면 n을 돌려준다. \n",
    "    else loop(n+1) // 그렇지 않으면 n을 증가한 후 계속 진행.\n",
    "  \n",
    "  loop(0) // 배열의 첫 요소에서 루프를 시작한다.\n",
    "  /*\n",
    "  for(i=0, i >= ss.length, i++) \n",
    "    if(ss(i) == key) return i \n",
    "  */  \n",
    "}"
   ]
  },
  {
   "cell_type": "markdown",
   "metadata": {},
   "source": [
    "\n",
    "\n"
   ]
  },
  {
   "cell_type": "markdown",
   "metadata": {},
   "source": [
    "- 배열에서 한 요소를 찾는 다형적 함수"
   ]
  },
  {
   "cell_type": "code",
   "execution_count": 84,
   "metadata": {
    "collapsed": false
   },
   "outputs": [
    {
     "data": {
      "text/plain": [
       "defined \u001b[32mfunction \u001b[36mfindFirst\u001b[0m"
      ]
     },
     "metadata": {},
     "output_type": "display_data"
    }
   ],
   "source": [
    "def findFirst[A](as: Array[A], p: A => Boolean): Int = { \n",
    "  /* \n",
    "    함수명 뒤에 [A] 같은 '형식 매개변수'를 사용함. [A,B,C] 같이 여러개도 가능. \n",
    "    그 위의 A 는 '형식 변수' 라고 부름. 두 형식 변수 A는 동일한 타입이여야함.\n",
    "  */\n",
    "  // String Array 대신 A 형식의 Array를 하나 받는다.\n",
    "  // 그리고 찾을 String key 대신 A 형식의 인수와 특정 값이 같은 지 판단하는 함수를 받는다.  \n",
    "  @annotation.tailrec\n",
    "  def loop(n: Int): Int =\n",
    "    if(n >= as.length) -1 \n",
    "    else if(p(as(n))) n // \n",
    "    else loop(n+1) // \n",
    "  \n",
    "  loop(0) \n",
    "}"
   ]
  },
  {
   "cell_type": "markdown",
   "metadata": {},
   "source": [
    "- 위 함수는 <font color=\"red\">일반적 함수(generic function)</font>라고 부르는 다형적 함수의 한 예."
   ]
  },
  {
   "cell_type": "markdown",
   "metadata": {},
   "source": [
    "- 이 함수는 <font color=\"red\">형식에 대한 추상(abstracting over the type)</font>을, 배열과 배열 안의 한 요소를 검색하는 함수에 적용한 결과."
   ]
  },
  {
   "cell_type": "code",
   "execution_count": 125,
   "metadata": {
    "collapsed": false
   },
   "outputs": [
    {
     "data": {
      "text/plain": [
       "defined \u001b[32mfunction \u001b[36misSorted\u001b[0m"
      ]
     },
     "metadata": {},
     "output_type": "display_data"
    }
   ],
   "source": [
    "// ex) 2.2\n",
    "def isSorted[A](as: Array[A], ordered: (A, A) => Boolean): Boolean = {\n",
    "  @annotation.tailrec\n",
    "  def loop(n: Int): Boolean =\n",
    "    if(n >= as.length) true\n",
    "    else if(ordered(as(n), as(n-1))) loop(n+1)\n",
    "    else false\n",
    "    \n",
    "  loop(1)  \n",
    "}"
   ]
  },
  {
   "cell_type": "code",
   "execution_count": 127,
   "metadata": {
    "collapsed": false
   },
   "outputs": [
    {
     "data": {
      "text/plain": [
       "\u001b[36mres96\u001b[0m: \u001b[32mBoolean\u001b[0m = false"
      ]
     },
     "metadata": {},
     "output_type": "display_data"
    }
   ],
   "source": [
    "isSorted(Array(1, 3, 2), (x: Int, y: Int) => x > y)"
   ]
  },
  {
   "cell_type": "markdown",
   "metadata": {},
   "source": [
    "###2.5.2 익명 함수로 고차 함수 호출"
   ]
  },
  {
   "cell_type": "markdown",
   "metadata": {},
   "source": [
    "- 고차 함수 호출 시, 매개변수로 함수를 미리 정의해서 사용하는 것이 아니라, <font color=\"red\">익명 함수(anonymous function)</font> 또는 <font color=\"red\">함수 리터럴(function literal)</font>을 지정해서 호출하는 것이 편리함."
   ]
  },
  {
   "cell_type": "code",
   "execution_count": 86,
   "metadata": {
    "collapsed": false
   },
   "outputs": [
    {
     "data": {
      "text/plain": [
       "\u001b[36mres64\u001b[0m: \u001b[32mInt\u001b[0m = \u001b[32m0\u001b[0m"
      ]
     },
     "metadata": {},
     "output_type": "display_data"
    }
   ],
   "source": [
    "findFirst(Array(7,9,13), (x: Int) => x == 7)"
   ]
  },
  {
   "cell_type": "code",
   "execution_count": 87,
   "metadata": {
    "collapsed": false
   },
   "outputs": [
    {
     "data": {
      "text/plain": [
       "\u001b[36mres65\u001b[0m: (\u001b[32mInt\u001b[0m, \u001b[32mInt\u001b[0m) => \u001b[32mBoolean\u001b[0m = <function2>"
      ]
     },
     "metadata": {},
     "output_type": "display_data"
    }
   ],
   "source": [
    "(x: Int, y: Int) => x == y"
   ]
  },
  {
   "cell_type": "code",
   "execution_count": 87,
   "metadata": {
    "collapsed": false,
    "scrolled": true
   },
   "outputs": [
    {
     "ename": "",
     "evalue": "",
     "output_type": "error",
     "traceback": [
      "\u001b[31m<console>:1: ';' expected but '=>' found.",
      "(x, y) => x < y",
      "       ^\u001b[0m"
     ]
    }
   ],
   "source": [
    "(x, y) => x < y"
   ]
  },
  {
   "cell_type": "code",
   "execution_count": 104,
   "metadata": {
    "collapsed": false
   },
   "outputs": [
    {
     "data": {
      "text/plain": [
       "\u001b[36mlessThan1\u001b[0m: (\u001b[32mInt\u001b[0m, \u001b[32mInt\u001b[0m) => \u001b[32mBoolean\u001b[0m = <function2>"
      ]
     },
     "metadata": {},
     "output_type": "display_data"
    }
   ],
   "source": [
    "val lessThan1 = (a: Int, b: Int) => a < b"
   ]
  },
  {
   "cell_type": "code",
   "execution_count": 105,
   "metadata": {
    "collapsed": false
   },
   "outputs": [
    {
     "data": {
      "text/plain": [
       "\u001b[36mlessThan2\u001b[0m: (\u001b[32mInt\u001b[0m, \u001b[32mInt\u001b[0m) => \u001b[32mBoolean\u001b[0m = <function2>"
      ]
     },
     "metadata": {},
     "output_type": "display_data"
    }
   ],
   "source": [
    "val lessThan2 = new Function2[Int, Int, Boolean] {\n",
    "  def apply(a: Int, b: Int) = a < b    \n",
    "}"
   ]
  },
  {
   "cell_type": "code",
   "execution_count": 106,
   "metadata": {
    "collapsed": false
   },
   "outputs": [
    {
     "data": {
      "text/plain": [
       "\u001b[36mres78\u001b[0m: \u001b[32mBoolean\u001b[0m = true"
      ]
     },
     "metadata": {},
     "output_type": "display_data"
    }
   ],
   "source": [
    "lessThan1.apply(10, 20)"
   ]
  },
  {
   "cell_type": "code",
   "execution_count": 107,
   "metadata": {
    "collapsed": false
   },
   "outputs": [
    {
     "data": {
      "text/plain": [
       "\u001b[36mres79\u001b[0m: \u001b[32mBoolean\u001b[0m = true"
      ]
     },
     "metadata": {},
     "output_type": "display_data"
    }
   ],
   "source": [
    "lessThan2.apply(10, 20)"
   ]
  },
  {
   "cell_type": "code",
   "execution_count": 108,
   "metadata": {
    "collapsed": false
   },
   "outputs": [
    {
     "data": {
      "text/plain": [
       "\u001b[36mres80\u001b[0m: \u001b[32mBoolean\u001b[0m = true"
      ]
     },
     "metadata": {},
     "output_type": "display_data"
    }
   ],
   "source": [
    "lessThan1(10,20)"
   ]
  },
  {
   "cell_type": "code",
   "execution_count": 109,
   "metadata": {
    "collapsed": false
   },
   "outputs": [
    {
     "data": {
      "text/plain": [
       "\u001b[36mres81\u001b[0m: \u001b[32mBoolean\u001b[0m = true"
      ]
     },
     "metadata": {},
     "output_type": "display_data"
    }
   ],
   "source": [
    "lessThan2(10,20)"
   ]
  },
  {
   "cell_type": "markdown",
   "metadata": {},
   "source": [
    "- <a href=\"http://www.scala-lang.org/api/current/index.html#scala.Function2\">function2 trait</a> 자세히..."
   ]
  },
  {
   "cell_type": "markdown",
   "metadata": {},
   "source": [
    "\n",
    "\n"
   ]
  },
  {
   "cell_type": "markdown",
   "metadata": {},
   "source": [
    "\n",
    "\n"
   ]
  },
  {
   "cell_type": "markdown",
   "metadata": {},
   "source": [
    "##2.6 형식에서 도출된 구현"
   ]
  },
  {
   "cell_type": "markdown",
   "metadata": {},
   "source": [
    "- <font color=\"red\">부분 적용(partial application)</font>이라고 부르는 고차 함수"
   ]
  },
  {
   "cell_type": "code",
   "execution_count": null,
   "metadata": {
    "collapsed": true
   },
   "outputs": [],
   "source": [
    "def partial1[A,B,C](a: A, f: (A,B) => C): B => C"
   ]
  },
  {
   "cell_type": "code",
   "execution_count": null,
   "metadata": {
    "collapsed": true
   },
   "outputs": [],
   "source": [
    "def partial1[A,B,C](a: A, f: (A,B) => C) : B => C =\n",
    "  (b: B) => C"
   ]
  },
  {
   "cell_type": "code",
   "execution_count": 158,
   "metadata": {
    "collapsed": false,
    "scrolled": true
   },
   "outputs": [
    {
     "data": {
      "text/plain": [
       "defined \u001b[32mfunction \u001b[36mpartial1\u001b[0m"
      ]
     },
     "metadata": {},
     "output_type": "display_data"
    }
   ],
   "source": [
    "def partial1[A,B,C](a: A, f: (A,B) => C) : B => C =\n",
    " //(b: B) => f(a, b)\n",
    "  b => f(a, b)"
   ]
  },
  {
   "cell_type": "markdown",
   "metadata": {},
   "source": [
    "- A라는 형식이 있고, A 와 B를 모두 받아서 C를 산출하는 함수가 있다면 B 만으로도 C를 산출하는 함수를 얻을 수 있다."
   ]
  },
  {
   "cell_type": "markdown",
   "metadata": {},
   "source": [
    "- 즉 사과와 바나나를 주면 당근을 줄께~ 그런데 사과는 이미 받았으니 바나나만 주면 당근을 줄께"
   ]
  },
  {
   "cell_type": "markdown",
   "metadata": {},
   "source": [
    "- 뭔말일까..........."
   ]
  },
  {
   "cell_type": "markdown",
   "metadata": {},
   "source": [
    "\n",
    "\n"
   ]
  },
  {
   "cell_type": "markdown",
   "metadata": {},
   "source": [
    "\n",
    "\n"
   ]
  },
  {
   "cell_type": "markdown",
   "metadata": {},
   "source": [
    "<font color=\"blue\">1. 사과를 줍니다.</font>"
   ]
  },
  {
   "cell_type": "code",
   "execution_count": 167,
   "metadata": {
    "collapsed": false
   },
   "outputs": [
    {
     "data": {
      "text/plain": [
       "\u001b[36mp\u001b[0m: \u001b[32mString\u001b[0m => \u001b[32mString\u001b[0m = <function1>"
      ]
     },
     "metadata": {},
     "output_type": "display_data"
    }
   ],
   "source": [
    "val p = partial1(\"사과\", (a: String, b: String) => \"당근\")"
   ]
  },
  {
   "cell_type": "markdown",
   "metadata": {},
   "source": [
    "<font color=\"blue\">2. 바나나를 줍니다.</font>"
   ]
  },
  {
   "cell_type": "code",
   "execution_count": 168,
   "metadata": {
    "collapsed": false
   },
   "outputs": [
    {
     "data": {
      "text/plain": [
       "\u001b[36mres132\u001b[0m: \u001b[32mString\u001b[0m = \u001b[32m\"당근\"\u001b[0m"
      ]
     },
     "metadata": {},
     "output_type": "display_data"
    }
   ],
   "source": [
    "p(\"바나나\")"
   ]
  },
  {
   "cell_type": "markdown",
   "metadata": {},
   "source": [
    "<font color=\"blue\">3. 당근을 받았습니다 !!!!!</font>"
   ]
  },
  {
   "cell_type": "markdown",
   "metadata": {},
   "source": [
    "\n",
    "\n"
   ]
  },
  {
   "cell_type": "markdown",
   "metadata": {},
   "source": [
    "\n",
    "\n"
   ]
  },
  {
   "cell_type": "markdown",
   "metadata": {},
   "source": [
    "\n",
    "\n"
   ]
  },
  {
   "cell_type": "code",
   "execution_count": 173,
   "metadata": {
    "collapsed": false
   },
   "outputs": [
    {
     "data": {
      "text/plain": [
       "\u001b[36mm\u001b[0m: \u001b[32mInt\u001b[0m = \u001b[32m10\u001b[0m"
      ]
     },
     "metadata": {},
     "output_type": "display_data"
    }
   ],
   "source": [
    "val m = 10"
   ]
  },
  {
   "cell_type": "markdown",
   "metadata": {},
   "source": [
    "....\n"
   ]
  },
  {
   "cell_type": "markdown",
   "metadata": {},
   "source": [
    "....\n"
   ]
  },
  {
   "cell_type": "code",
   "execution_count": 174,
   "metadata": {
    "collapsed": false
   },
   "outputs": [
    {
     "data": {
      "text/plain": [
       "\u001b[36mp\u001b[0m: \u001b[32mString\u001b[0m => \u001b[32mString\u001b[0m = <function1>"
      ]
     },
     "metadata": {},
     "output_type": "display_data"
    }
   ],
   "source": [
    "val p = partial1(m, (x: Int, s: String) => \"int %d string %s\".format(x, s))"
   ]
  },
  {
   "cell_type": "markdown",
   "metadata": {},
   "source": [
    "....\n"
   ]
  },
  {
   "cell_type": "markdown",
   "metadata": {},
   "source": [
    "....\n"
   ]
  },
  {
   "cell_type": "code",
   "execution_count": 175,
   "metadata": {
    "collapsed": false
   },
   "outputs": [
    {
     "data": {
      "text/plain": [
       "\u001b[36mn\u001b[0m: \u001b[32mString\u001b[0m = \u001b[32m\"hello\"\u001b[0m"
      ]
     },
     "metadata": {},
     "output_type": "display_data"
    }
   ],
   "source": [
    "val n = \"hello\""
   ]
  },
  {
   "cell_type": "markdown",
   "metadata": {},
   "source": [
    "....\n"
   ]
  },
  {
   "cell_type": "markdown",
   "metadata": {},
   "source": [
    "....\n"
   ]
  },
  {
   "cell_type": "code",
   "execution_count": 176,
   "metadata": {
    "collapsed": false,
    "scrolled": true
   },
   "outputs": [
    {
     "data": {
      "text/plain": [
       "\u001b[36mres139\u001b[0m: \u001b[32mString\u001b[0m = \u001b[32m\"int 10 string hello\"\u001b[0m"
      ]
     },
     "metadata": {},
     "output_type": "display_data"
    }
   ],
   "source": [
    "p(b)"
   ]
  },
  {
   "cell_type": "markdown",
   "metadata": {},
   "source": [
    "- 함수를 부분적으로 실행할 수 있음."
   ]
  },
  {
   "cell_type": "markdown",
   "metadata": {},
   "source": [
    "\n",
    "\n"
   ]
  },
  {
   "cell_type": "markdown",
   "metadata": {},
   "source": [
    "\n",
    "\n"
   ]
  },
  {
   "cell_type": "markdown",
   "metadata": {},
   "source": [
    "\n",
    "\n"
   ]
  },
  {
   "cell_type": "markdown",
   "metadata": {},
   "source": [
    "\n",
    "\n"
   ]
  },
  {
   "cell_type": "markdown",
   "metadata": {},
   "source": [
    "- 함수 합성"
   ]
  },
  {
   "cell_type": "code",
   "execution_count": 143,
   "metadata": {
    "collapsed": false
   },
   "outputs": [
    {
     "data": {
      "text/plain": [
       "\u001b[36ma\u001b[0m: \u001b[32mInt\u001b[0m => \u001b[32mInt\u001b[0m = <function1>"
      ]
     },
     "metadata": {},
     "output_type": "display_data"
    }
   ],
   "source": [
    "val a = (x: Int) => x + 10"
   ]
  },
  {
   "cell_type": "code",
   "execution_count": 149,
   "metadata": {
    "collapsed": false
   },
   "outputs": [
    {
     "data": {
      "text/plain": [
       "\u001b[36mb\u001b[0m: \u001b[32mInt\u001b[0m => \u001b[32mInt\u001b[0m = <function1>"
      ]
     },
     "metadata": {},
     "output_type": "display_data"
    }
   ],
   "source": [
    "val b = (y: Int) => y * 2"
   ]
  },
  {
   "cell_type": "code",
   "execution_count": 150,
   "metadata": {
    "collapsed": false
   },
   "outputs": [
    {
     "data": {
      "text/plain": [
       "\u001b[36mc\u001b[0m: \u001b[32mInt\u001b[0m => \u001b[32mInt\u001b[0m = <function1>"
      ]
     },
     "metadata": {},
     "output_type": "display_data"
    }
   ],
   "source": [
    "val c = a andThen b"
   ]
  },
  {
   "cell_type": "code",
   "execution_count": 151,
   "metadata": {
    "collapsed": false
   },
   "outputs": [
    {
     "data": {
      "text/plain": [
       "\u001b[36mres115\u001b[0m: \u001b[32mInt\u001b[0m = \u001b[32m26\u001b[0m"
      ]
     },
     "metadata": {},
     "output_type": "display_data"
    }
   ],
   "source": [
    "c(3)"
   ]
  },
  {
   "cell_type": "code",
   "execution_count": 153,
   "metadata": {
    "collapsed": false
   },
   "outputs": [
    {
     "data": {
      "text/plain": [
       "\u001b[36md\u001b[0m: \u001b[32mInt\u001b[0m => \u001b[32mInt\u001b[0m = <function1>"
      ]
     },
     "metadata": {},
     "output_type": "display_data"
    }
   ],
   "source": [
    "val d = b compose a "
   ]
  },
  {
   "cell_type": "code",
   "execution_count": 154,
   "metadata": {
    "collapsed": false
   },
   "outputs": [
    {
     "data": {
      "text/plain": [
       "\u001b[36mres118\u001b[0m: \u001b[32mInt\u001b[0m = \u001b[32m26\u001b[0m"
      ]
     },
     "metadata": {},
     "output_type": "display_data"
    }
   ],
   "source": [
    "d(3)"
   ]
  },
  {
   "cell_type": "code",
   "execution_count": 152,
   "metadata": {
    "collapsed": false
   },
   "outputs": [
    {
     "data": {
      "text/plain": [
       "\u001b[36mres116\u001b[0m: \u001b[32mInt\u001b[0m = \u001b[32m26\u001b[0m"
      ]
     },
     "metadata": {},
     "output_type": "display_data"
    }
   ],
   "source": [
    "b(a(3))"
   ]
  },
  {
   "cell_type": "markdown",
   "metadata": {},
   "source": [
    "- <a href=\"http://www.scala-lang.org/api/current/index.html#scala.Function1\">function1 trait</a> 자세히..."
   ]
  }
 ],
 "metadata": {
  "kernelspec": {
   "display_name": "Scala 2.11",
   "language": "scala211",
   "name": "scala211"
  },
  "language_info": {
   "codemirror_mode": "text/x-scala",
   "file_extension": "scala",
   "mimetype": "text/x-scala",
   "name": "scala211",
   "pygments_lexer": "scala",
   "version": "2.11.6"
  }
 },
 "nbformat": 4,
 "nbformat_minor": 0
}
