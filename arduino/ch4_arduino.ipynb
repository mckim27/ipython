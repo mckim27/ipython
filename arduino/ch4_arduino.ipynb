{
 "cells": [
  {
   "cell_type": "markdown",
   "metadata": {},
   "source": [
    "# 1. 스케치의 기본적인 구조와 디지털 출력"
   ]
  },
  {
   "cell_type": "markdown",
   "metadata": {},
   "source": [
    "###- <a href='http://123d.circuits.io/circuits/690592-arduino-base-code'>기본코드 예제</a>"
   ]
  },
  {
   "cell_type": "markdown",
   "metadata": {
    "collapsed": true
   },
   "source": [
    "# 2. PWM을 이용한 아날로그 출력 "
   ]
  },
  {
   "cell_type": "markdown",
   "metadata": {},
   "source": [
    "### - <a href='http://www.hardcopyworld.com/ngine/aduino/index.php/archives/1040'>PWM ???</a>"
   ]
  },
  {
   "cell_type": "markdown",
   "metadata": {},
   "source": [
    "- 아두이노가 가진 Digital 핀 중 PWM 기능을 가진 핀들이 이미 정의되어 있습니다. 아두이노 보드에 있는 각각의 핀 아래에는 핀 번호가 적혀있는데 PWM 기능을 가진 핀은 앞에 (~) 물결 마크가 붙어 있습니다. 3, 5, 6, 9, 10, 11번 핀이 PWM 핀. "
   ]
  },
  {
   "cell_type": "markdown",
   "metadata": {},
   "source": [
    "<img src=\"http://www.hardcopyworld.com/ngine/aduino/wp-content/uploads/sites/3/2014/08/ArduinoUno_r2_front450px.jpg\">"
   ]
  },
  {
   "cell_type": "markdown",
   "metadata": {},
   "source": [
    "###- <a href='http://123d.circuits.io/circuits/690615-pwm-output'>아날로그 출력 예제</a>"
   ]
  },
  {
   "cell_type": "markdown",
   "metadata": {
    "collapsed": true
   },
   "source": [
    "#3. 디지털 입력 "
   ]
  },
  {
   "cell_type": "markdown",
   "metadata": {},
   "source": [
    "###- <a href='http://123d.circuits.io/circuits/690667-digital-input'>디지털 입력 예제</a>"
   ]
  },
  {
   "cell_type": "markdown",
   "metadata": {},
   "source": [
    "###- <a href='http://blog.naver.com/roboholic84/220309707543'>플로팅 개념</a>"
   ]
  },
  {
   "cell_type": "markdown",
   "metadata": {},
   "source": [
    "### - Pull up\n"
   ]
  },
  {
   "cell_type": "markdown",
   "metadata": {},
   "source": [
    "### - Pull Down"
   ]
  },
  {
   "cell_type": "markdown",
   "metadata": {},
   "source": [
    "#4. 아날로그 입력 "
   ]
  },
  {
   "cell_type": "markdown",
   "metadata": {},
   "source": [
    "###- <a href='http://123d.circuits.io/circuits/693676-analog-inputt'>아날로그 입력 예제</a>"
   ]
  },
  {
   "cell_type": "markdown",
   "metadata": {},
   "source": [
    "#5. 아두이노 보드에 LCD 연결하기 "
   ]
  }
 ],
 "metadata": {
  "kernelspec": {
   "display_name": "Python 2",
   "language": "python",
   "name": "python2"
  },
  "language_info": {
   "codemirror_mode": {
    "name": "ipython",
    "version": 2
   },
   "file_extension": ".py",
   "mimetype": "text/x-python",
   "name": "python",
   "nbconvert_exporter": "python",
   "pygments_lexer": "ipython2",
   "version": "2.7.5"
  }
 },
 "nbformat": 4,
 "nbformat_minor": 0
}
